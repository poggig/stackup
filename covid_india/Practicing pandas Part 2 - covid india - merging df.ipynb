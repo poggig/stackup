{
 "cells": [
  {
   "cell_type": "code",
   "execution_count": 1,
   "metadata": {},
   "outputs": [],
   "source": [
    "import pandas as pd\n",
    "import matplotlib.pyplot as plt"
   ]
  },
  {
   "cell_type": "code",
   "execution_count": 2,
   "metadata": {},
   "outputs": [],
   "source": [
    "duplicate_list = ['Kerala','Delhi','Rajasthan','Uttar Pradesh','Haryana','Ladakh','Tamil Nadu','Karnataka','Maharashtra','Punjab','Jammu and Kashmir','Andhra Pradesh','Uttarakhand','Odisha','Puducherry','West Bengal',\n",
    "'Chhattisgarh','Chandigarh','Gujarat','Himachal Pradesh','Madhya Pradesh','Bihar','Manipur','Mizoram','Andaman and Nicobar Islands','Goa','Assam','Jharkhand','Arunachal Pradesh','Tripura','Nagaland','Meghalaya',\n",
    "'Dadra and Nagar Haveli and Daman and Diu','Sikkim','Lakshadweep','Telangana'] # previous task solution"
   ]
  },
  {
   "cell_type": "code",
   "execution_count": null,
   "metadata": {},
   "outputs": [],
   "source": []
  }
 ],
 "metadata": {
  "kernelspec": {
   "display_name": "Python 3",
   "language": "python",
   "name": "python3"
  },
  "language_info": {
   "codemirror_mode": {
    "name": "ipython",
    "version": 3
   },
   "file_extension": ".py",
   "mimetype": "text/x-python",
   "name": "python",
   "nbconvert_exporter": "python",
   "pygments_lexer": "ipython3",
   "version": "3.8.5"
  }
 },
 "nbformat": 4,
 "nbformat_minor": 4
}
